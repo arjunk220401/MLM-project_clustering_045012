{
  "nbformat": 4,
  "nbformat_minor": 0,
  "metadata": {
    "colab": {
      "provenance": []
    },
    "kernelspec": {
      "name": "python3",
      "display_name": "Python 3"
    },
    "language_info": {
      "name": "python"
    }
  },
  "cells": [
    {
      "cell_type": "code",
      "execution_count": 1,
      "metadata": {
        "colab": {
          "base_uri": "https://localhost:8080/",
          "height": 73
        },
        "id": "7pSUMba_PN5m",
        "outputId": "39eff51f-0e98-4f01-8d52-110fcdb17e4b"
      },
      "outputs": [
        {
          "output_type": "display_data",
          "data": {
            "text/plain": [
              "<IPython.core.display.HTML object>"
            ],
            "text/html": [
              "\n",
              "     <input type=\"file\" id=\"files-5e6dad68-c54f-4194-97d6-fe6810f95a55\" name=\"files[]\" multiple disabled\n",
              "        style=\"border:none\" />\n",
              "     <output id=\"result-5e6dad68-c54f-4194-97d6-fe6810f95a55\">\n",
              "      Upload widget is only available when the cell has been executed in the\n",
              "      current browser session. Please rerun this cell to enable.\n",
              "      </output>\n",
              "      <script>// Copyright 2017 Google LLC\n",
              "//\n",
              "// Licensed under the Apache License, Version 2.0 (the \"License\");\n",
              "// you may not use this file except in compliance with the License.\n",
              "// You may obtain a copy of the License at\n",
              "//\n",
              "//      http://www.apache.org/licenses/LICENSE-2.0\n",
              "//\n",
              "// Unless required by applicable law or agreed to in writing, software\n",
              "// distributed under the License is distributed on an \"AS IS\" BASIS,\n",
              "// WITHOUT WARRANTIES OR CONDITIONS OF ANY KIND, either express or implied.\n",
              "// See the License for the specific language governing permissions and\n",
              "// limitations under the License.\n",
              "\n",
              "/**\n",
              " * @fileoverview Helpers for google.colab Python module.\n",
              " */\n",
              "(function(scope) {\n",
              "function span(text, styleAttributes = {}) {\n",
              "  const element = document.createElement('span');\n",
              "  element.textContent = text;\n",
              "  for (const key of Object.keys(styleAttributes)) {\n",
              "    element.style[key] = styleAttributes[key];\n",
              "  }\n",
              "  return element;\n",
              "}\n",
              "\n",
              "// Max number of bytes which will be uploaded at a time.\n",
              "const MAX_PAYLOAD_SIZE = 100 * 1024;\n",
              "\n",
              "function _uploadFiles(inputId, outputId) {\n",
              "  const steps = uploadFilesStep(inputId, outputId);\n",
              "  const outputElement = document.getElementById(outputId);\n",
              "  // Cache steps on the outputElement to make it available for the next call\n",
              "  // to uploadFilesContinue from Python.\n",
              "  outputElement.steps = steps;\n",
              "\n",
              "  return _uploadFilesContinue(outputId);\n",
              "}\n",
              "\n",
              "// This is roughly an async generator (not supported in the browser yet),\n",
              "// where there are multiple asynchronous steps and the Python side is going\n",
              "// to poll for completion of each step.\n",
              "// This uses a Promise to block the python side on completion of each step,\n",
              "// then passes the result of the previous step as the input to the next step.\n",
              "function _uploadFilesContinue(outputId) {\n",
              "  const outputElement = document.getElementById(outputId);\n",
              "  const steps = outputElement.steps;\n",
              "\n",
              "  const next = steps.next(outputElement.lastPromiseValue);\n",
              "  return Promise.resolve(next.value.promise).then((value) => {\n",
              "    // Cache the last promise value to make it available to the next\n",
              "    // step of the generator.\n",
              "    outputElement.lastPromiseValue = value;\n",
              "    return next.value.response;\n",
              "  });\n",
              "}\n",
              "\n",
              "/**\n",
              " * Generator function which is called between each async step of the upload\n",
              " * process.\n",
              " * @param {string} inputId Element ID of the input file picker element.\n",
              " * @param {string} outputId Element ID of the output display.\n",
              " * @return {!Iterable<!Object>} Iterable of next steps.\n",
              " */\n",
              "function* uploadFilesStep(inputId, outputId) {\n",
              "  const inputElement = document.getElementById(inputId);\n",
              "  inputElement.disabled = false;\n",
              "\n",
              "  const outputElement = document.getElementById(outputId);\n",
              "  outputElement.innerHTML = '';\n",
              "\n",
              "  const pickedPromise = new Promise((resolve) => {\n",
              "    inputElement.addEventListener('change', (e) => {\n",
              "      resolve(e.target.files);\n",
              "    });\n",
              "  });\n",
              "\n",
              "  const cancel = document.createElement('button');\n",
              "  inputElement.parentElement.appendChild(cancel);\n",
              "  cancel.textContent = 'Cancel upload';\n",
              "  const cancelPromise = new Promise((resolve) => {\n",
              "    cancel.onclick = () => {\n",
              "      resolve(null);\n",
              "    };\n",
              "  });\n",
              "\n",
              "  // Wait for the user to pick the files.\n",
              "  const files = yield {\n",
              "    promise: Promise.race([pickedPromise, cancelPromise]),\n",
              "    response: {\n",
              "      action: 'starting',\n",
              "    }\n",
              "  };\n",
              "\n",
              "  cancel.remove();\n",
              "\n",
              "  // Disable the input element since further picks are not allowed.\n",
              "  inputElement.disabled = true;\n",
              "\n",
              "  if (!files) {\n",
              "    return {\n",
              "      response: {\n",
              "        action: 'complete',\n",
              "      }\n",
              "    };\n",
              "  }\n",
              "\n",
              "  for (const file of files) {\n",
              "    const li = document.createElement('li');\n",
              "    li.append(span(file.name, {fontWeight: 'bold'}));\n",
              "    li.append(span(\n",
              "        `(${file.type || 'n/a'}) - ${file.size} bytes, ` +\n",
              "        `last modified: ${\n",
              "            file.lastModifiedDate ? file.lastModifiedDate.toLocaleDateString() :\n",
              "                                    'n/a'} - `));\n",
              "    const percent = span('0% done');\n",
              "    li.appendChild(percent);\n",
              "\n",
              "    outputElement.appendChild(li);\n",
              "\n",
              "    const fileDataPromise = new Promise((resolve) => {\n",
              "      const reader = new FileReader();\n",
              "      reader.onload = (e) => {\n",
              "        resolve(e.target.result);\n",
              "      };\n",
              "      reader.readAsArrayBuffer(file);\n",
              "    });\n",
              "    // Wait for the data to be ready.\n",
              "    let fileData = yield {\n",
              "      promise: fileDataPromise,\n",
              "      response: {\n",
              "        action: 'continue',\n",
              "      }\n",
              "    };\n",
              "\n",
              "    // Use a chunked sending to avoid message size limits. See b/62115660.\n",
              "    let position = 0;\n",
              "    do {\n",
              "      const length = Math.min(fileData.byteLength - position, MAX_PAYLOAD_SIZE);\n",
              "      const chunk = new Uint8Array(fileData, position, length);\n",
              "      position += length;\n",
              "\n",
              "      const base64 = btoa(String.fromCharCode.apply(null, chunk));\n",
              "      yield {\n",
              "        response: {\n",
              "          action: 'append',\n",
              "          file: file.name,\n",
              "          data: base64,\n",
              "        },\n",
              "      };\n",
              "\n",
              "      let percentDone = fileData.byteLength === 0 ?\n",
              "          100 :\n",
              "          Math.round((position / fileData.byteLength) * 100);\n",
              "      percent.textContent = `${percentDone}% done`;\n",
              "\n",
              "    } while (position < fileData.byteLength);\n",
              "  }\n",
              "\n",
              "  // All done.\n",
              "  yield {\n",
              "    response: {\n",
              "      action: 'complete',\n",
              "    }\n",
              "  };\n",
              "}\n",
              "\n",
              "scope.google = scope.google || {};\n",
              "scope.google.colab = scope.google.colab || {};\n",
              "scope.google.colab._files = {\n",
              "  _uploadFiles,\n",
              "  _uploadFilesContinue,\n",
              "};\n",
              "})(self);\n",
              "</script> "
            ]
          },
          "metadata": {}
        },
        {
          "output_type": "stream",
          "name": "stdout",
          "text": [
            "Saving 100000 Sales Records.xlsx to 100000 Sales Records (1).xlsx\n"
          ]
        }
      ],
      "source": [
        "from google.colab import files\n",
        "uploaded = files.upload()"
      ]
    },
    {
      "cell_type": "code",
      "source": [
        "import pandas as pd\n",
        "from sklearn.impute import SimpleImputer\n",
        "from sklearn.preprocessing import StandardScaler, MinMaxScaler\n",
        "import numpy as np\n",
        "from sklearn.model_selection import train_test_split\n",
        "\n",
        "# Load the data\n",
        "df = pd.read_excel('100000 Sales Records.xlsx')\n",
        "df.head()\n",
        "\n",
        "# Display basic information about the dataset\n",
        "print(\"Basic information about the dataset:\")\n",
        "print(df.info())\n",
        "\n",
        "# 3.1.1. Missing Data Statistics and Treatment\n",
        "# 3.1.1.1.1. Missing Data Statistics: Records\n",
        "missing_records = df.isnull().sum(axis=1)\n",
        "print(\"\\nMissing Data Statistics: Records\")\n",
        "print(missing_records.value_counts())\n",
        "\n",
        "# 3.1.1.1.2. Missing Data Treatment: Records\n",
        "# Removing records with more than 50% missing data\n",
        "threshold = 0.5\n",
        "df = df[missing_records <= threshold]\n",
        "\n",
        "# 3.1.1.2.1. Missing Data Statistics: Categorical Variables or Features\n",
        "# 3.1.1.2.2. Missing Data Treatment: Categorical Variables or Features\n",
        "categorical_vars = df.select_dtypes(include=['object']).columns\n",
        "missing_categorical = df[categorical_vars].isnull().sum()\n",
        "print(\"\\nMissing Data Statistics: Categorical Variables\")\n",
        "print(missing_categorical)\n",
        "\n",
        "# Imputation of missing data using the mode for categorical variables\n",
        "imputer_categorical = SimpleImputer(strategy='most_frequent')\n",
        "df[categorical_vars] = imputer_categorical.fit_transform(df[categorical_vars])\n",
        "\n",
        "# 3.1.1.3.1. Missing Data Statistics: Non-Categorical Variables or Features\n",
        "# 3.1.1.3.2. Missing Data Treatment: Non-Categorical Variables or Features\n",
        "numerical_vars = df.select_dtypes(include=['number']).columns\n",
        "missing_numerical = df[numerical_vars].isnull().sum()\n",
        "print(\"\\nMissing Data Statistics: Non-Categorical Variables\")\n",
        "print(missing_numerical)\n",
        "\n",
        "# Imputation of missing data using the mean for numerical variables\n",
        "imputer_numerical = SimpleImputer(strategy='mean')\n",
        "df[numerical_vars] = imputer_numerical.fit_transform(df[numerical_vars])\n",
        "\n",
        "# 3.1.2. Numerical Encoding of Categorical Variables or Features\n",
        "df = pd.get_dummies(df, columns=categorical_vars, drop_first=True)\n",
        "\n",
        "# 3.1.3. Outlier Statistics and Treatment\n",
        "# 3.1.3.1.1. Outlier Statistics: Non-Categorical Variables or Features\n",
        "# 3.1.3.1.2. Outlier Treatment: Non-Categorical Variables or Features\n",
        "for num_var in numerical_vars:\n",
        "    # Calculate Z-scores\n",
        "    z_scores = (df[num_var] - df[num_var].mean()) / df[num_var].std()\n",
        "    # Identify outliers using a threshold (e.g., 3)\n",
        "    outliers = np.abs(z_scores) > 3\n",
        "    # Replace outliers with the median\n",
        "    df.loc[outliers, num_var] = df[num_var].median()\n",
        "\n",
        "# 3.1.3.1.2.1. Standardization: OV1, OV2, …\n",
        "scaler_standard = StandardScaler()\n",
        "df[numerical_vars] = scaler_standard.fit_transform(df[numerical_vars])\n",
        "\n",
        "# 3.1.3.1.2.2. Normalization using Min-Max Scaler: OV3, OV4, …\n",
        "scaler_minmax = MinMaxScaler()\n",
        "df[numerical_vars] = scaler_minmax.fit_transform(df[numerical_vars])\n",
        "\n",
        "# 3.1.3.1.2.3. Log Transformation: OV5, OV6, …\n",
        "df[numerical_vars] = np.log1p(df[numerical_vars])\n",
        "\n",
        "# 3.1.4. Data Bifurcation: Training & Testing Sets\n",
        "# Assuming 'Total Profit' is the target variable\n",
        "X = df.drop('Total Profit', axis=1)\n",
        "y = df['Total Profit']\n",
        "\n",
        "X_train, X_test, y_train, y_test = train_test_split(X, y, test_size=0.2, random_state=42)\n",
        "\n",
        "# Display processed DataFrame\n",
        "print(\"\\nProcessed DataFrame:\")\n",
        "print(df.head())\n"
      ],
      "metadata": {
        "colab": {
          "base_uri": "https://localhost:8080/"
        },
        "id": "x48_xlxURR4s",
        "outputId": "68c4eb23-3c53-4289-a5c8-899b9c9cac34"
      },
      "execution_count": null,
      "outputs": [
        {
          "output_type": "stream",
          "name": "stdout",
          "text": [
            "Basic information about the dataset:\n",
            "<class 'pandas.core.frame.DataFrame'>\n",
            "RangeIndex: 100000 entries, 0 to 99999\n",
            "Data columns (total 14 columns):\n",
            " #   Column          Non-Null Count   Dtype         \n",
            "---  ------          --------------   -----         \n",
            " 0   Region          100000 non-null  object        \n",
            " 1   Country         100000 non-null  object        \n",
            " 2   Item Type       100000 non-null  object        \n",
            " 3   Sales Channel   100000 non-null  object        \n",
            " 4   Order Priority  100000 non-null  object        \n",
            " 5   Order Date      100000 non-null  datetime64[ns]\n",
            " 6   Order ID        100000 non-null  int64         \n",
            " 7   Ship Date       100000 non-null  datetime64[ns]\n",
            " 8   Units Sold      100000 non-null  int64         \n",
            " 9   Unit Price      100000 non-null  float64       \n",
            " 10  Unit Cost       100000 non-null  float64       \n",
            " 11  Total Revenue   100000 non-null  float64       \n",
            " 12  Total Cost      100000 non-null  float64       \n",
            " 13  Total Profit    100000 non-null  float64       \n",
            "dtypes: datetime64[ns](2), float64(5), int64(2), object(5)\n",
            "memory usage: 10.7+ MB\n",
            "None\n",
            "\n",
            "Missing Data Statistics: Records\n",
            "0    100000\n",
            "dtype: int64\n",
            "\n",
            "Missing Data Statistics: Categorical Variables\n",
            "Region            0\n",
            "Country           0\n",
            "Item Type         0\n",
            "Sales Channel     0\n",
            "Order Priority    0\n",
            "dtype: int64\n",
            "\n",
            "Missing Data Statistics: Non-Categorical Variables\n",
            "Order ID         0\n",
            "Units Sold       0\n",
            "Unit Price       0\n",
            "Unit Cost        0\n",
            "Total Revenue    0\n",
            "Total Cost       0\n",
            "Total Profit     0\n",
            "dtype: int64\n",
            "\n",
            "Processed DataFrame:\n",
            "  Order Date  Order ID  Ship Date  Units Sold  Unit Price  Unit Cost  \\\n",
            "0 2014-10-08  0.394375 2014-10-23    0.089209    0.196713   0.161043   \n",
            "1 2015-02-22  0.621001 2015-02-27    0.375037    0.500370   0.402101   \n",
            "2 2015-12-09  0.608770 2016-01-18    0.692447    0.000000   0.000000   \n",
            "3 2014-09-17  0.631767 2014-10-12    0.648041    0.104246   0.091699   \n",
            "4 2010-02-04  0.032007 2010-03-05    0.461063    0.693147   0.671270   \n",
            "\n",
            "   Total Revenue  Total Cost  Total Profit  Region_Australia and Oceania  ...  \\\n",
            "0       0.024474    0.020483      0.033043                             0  ...   \n",
            "1       0.297111    0.241012      0.416220                             0  ...   \n",
            "2       0.016067    0.015590      0.015575                             0  ...   \n",
            "3       0.121841    0.111100      0.138949                             0  ...   \n",
            "4       0.519203    0.512515      0.490642                             0  ...   \n",
            "\n",
            "   Item Type_Household  Item Type_Meat  Item Type_Office Supplies  \\\n",
            "0                    0               0                          0   \n",
            "1                    0               0                          0   \n",
            "2                    0               0                          0   \n",
            "3                    0               0                          0   \n",
            "4                    1               0                          0   \n",
            "\n",
            "   Item Type_Personal Care  Item Type_Snacks  Item Type_Vegetables  \\\n",
            "0                        0                 1                     0   \n",
            "1                        0                 0                     0   \n",
            "2                        0                 0                     0   \n",
            "3                        1                 0                     0   \n",
            "4                        0                 0                     0   \n",
            "\n",
            "   Sales Channel_Online  Order Priority_H  Order Priority_L  Order Priority_M  \n",
            "0                     1                 0                 0                 0  \n",
            "1                     0                 0                 1                 0  \n",
            "2                     0                 0                 0                 1  \n",
            "3                     1                 0                 0                 1  \n",
            "4                     0                 1                 0                 0  \n",
            "\n",
            "[5 rows x 214 columns]\n"
          ]
        }
      ]
    },
    {
      "cell_type": "code",
      "source": [
        "import pandas as pd\n",
        "from sklearn.preprocessing import LabelEncoder\n",
        "\n",
        "# Load the data\n",
        "df = pd.read_excel('100000 Sales Records.xlsx')\n",
        "\n",
        "# Report how many variables are alphanumeric\n",
        "alphanumeric_vars = df.select_dtypes(include=['object']).columns\n",
        "num_alphanumeric_vars = len(alphanumeric_vars)\n",
        "print(f\"Number of alphanumeric variables: {num_alphanumeric_vars}\")\n",
        "\n",
        "# Assign numerical codes to alphanumeric variables\n",
        "label_encoder = LabelEncoder()\n",
        "for var in alphanumeric_vars:\n",
        "    df[var + '_Encoded'] = label_encoder.fit_transform(df[var])\n",
        "\n",
        "# Display the encoded dataframe\n",
        "print(\"\\nEncoded DataFrame:\")\n",
        "print(df)\n"
      ],
      "metadata": {
        "colab": {
          "base_uri": "https://localhost:8080/"
        },
        "id": "4k591Jypcw9w",
        "outputId": "6e53e5cf-e15c-48c8-84ea-2d4b8dd9eb2a"
      },
      "execution_count": 3,
      "outputs": [
        {
          "output_type": "stream",
          "name": "stdout",
          "text": [
            "Number of alphanumeric variables: 5\n",
            "\n",
            "Encoded DataFrame:\n",
            "                                  Region                Country  \\\n",
            "0           Middle East and North Africa             Azerbaijan   \n",
            "1      Central America and the Caribbean                 Panama   \n",
            "2                     Sub-Saharan Africa  Sao Tome and Principe   \n",
            "3                     Sub-Saharan Africa  Sao Tome and Principe   \n",
            "4      Central America and the Caribbean                 Belize   \n",
            "...                                  ...                    ...   \n",
            "99995                 Sub-Saharan Africa                  Niger   \n",
            "99996                             Europe                 Poland   \n",
            "99997                 Sub-Saharan Africa                Comoros   \n",
            "99998       Middle East and North Africa                 Kuwait   \n",
            "99999                 Sub-Saharan Africa               Tanzania   \n",
            "\n",
            "           Item Type Sales Channel Order Priority Order Date   Order ID  \\\n",
            "0             Snacks        Online              C 2014-10-08  535113847   \n",
            "1          Cosmetics       Offline              L 2015-02-22  874708545   \n",
            "2             Fruits       Offline              M 2015-12-09  854349935   \n",
            "3      Personal Care        Online              M 2014-09-17  892836844   \n",
            "4          Household       Offline              H 2010-02-04  129280602   \n",
            "...              ...           ...            ...        ...        ...   \n",
            "99995         Cereal       Offline              L 2012-08-26  836322486   \n",
            "99996           Meat       Offline              C 2013-12-03  110449349   \n",
            "99997        Clothes        Online              M 2013-08-07  193128764   \n",
            "99998      Cosmetics        Online              L 2011-06-28  701597058   \n",
            "99999      Cosmetics       Offline              C 2012-04-03  423403060   \n",
            "\n",
            "       Ship Date  Units Sold  Unit Price  Unit Cost  Total Revenue  \\\n",
            "0     2014-10-23         934      152.58      97.44      142509.72   \n",
            "1     2015-02-27        4551      437.20     263.33     1989697.20   \n",
            "2     2016-01-18        9986        9.33       6.92       93169.38   \n",
            "3     2014-10-12        9118       81.73      56.67      745214.14   \n",
            "4     2010-03-05        5858      668.27     502.54     3914725.66   \n",
            "...          ...         ...         ...        ...            ...   \n",
            "99995 2012-09-11        5263      205.70     117.11     1082599.10   \n",
            "99996 2013-12-10        3272      421.89     364.69     1380424.08   \n",
            "99997 2013-08-31        9948      109.28      35.84     1087117.44   \n",
            "99998 2011-07-03        7015      437.20     263.33     3066958.00   \n",
            "99999 2012-04-30        3229      437.20     263.33     1411718.80   \n",
            "\n",
            "       Total Cost  Total Profit  Region_Encoded  Country_Encoded  \\\n",
            "0        91008.96      51500.76               4                9   \n",
            "1      1198414.83     791282.37               2              124   \n",
            "2        69103.12      24066.26               6              139   \n",
            "3       516717.06     228497.08               6              139   \n",
            "4      2943879.32     970846.34               2               15   \n",
            "...           ...           ...             ...              ...   \n",
            "99995   616349.93     466249.17               6              117   \n",
            "99996  1193265.68     187158.40               3              127   \n",
            "99997   356536.32     730581.12               6               31   \n",
            "99998  1847259.95    1219698.05               4               82   \n",
            "99999   850292.57     561426.23               6              162   \n",
            "\n",
            "       Item Type_Encoded  Sales Channel_Encoded  Order Priority_Encoded  \n",
            "0                     10                      1                       0  \n",
            "1                      4                      0                       2  \n",
            "2                      5                      0                       3  \n",
            "3                      9                      1                       3  \n",
            "4                      6                      0                       1  \n",
            "...                  ...                    ...                     ...  \n",
            "99995                  2                      0                       2  \n",
            "99996                  7                      0                       0  \n",
            "99997                  3                      1                       3  \n",
            "99998                  4                      1                       2  \n",
            "99999                  4                      0                       0  \n",
            "\n",
            "[100000 rows x 19 columns]\n"
          ]
        }
      ]
    },
    {
      "cell_type": "code",
      "source": [
        "import pandas as pd\n",
        "import seaborn as sns\n",
        "import matplotlib.pyplot as plt  # Importing matplotlib.pyplot\n",
        "\n",
        "from sklearn.preprocessing import StandardScaler, MinMaxScaler\n",
        "\n",
        "# Load the data\n",
        "df = pd.read_excel('100000 Sales Records.xlsx')\n",
        "\n",
        "# Select non-categorical columns\n",
        "non_categorical_columns = ['Units Sold', 'Unit Price', 'Unit Cost', 'Total Cost', 'Total Profit']\n",
        "\n",
        "# Step 1: Visualize the data using box plots to identify outliers\n",
        "for column in non_categorical_columns:\n",
        "    sns.boxplot(x=df[column])\n",
        "    plt.title(f'Boxplot of {column}')\n",
        "    plt.show()\n",
        "\n",
        "# Step 2: Remove outliers\n",
        "# Let's define outliers as values that fall below the 5th percentile or above the 95th percentile\n",
        "for column in non_categorical_columns:\n",
        "    lower_bound = df[column].quantile(0.05)\n",
        "    upper_bound = df[column].quantile(0.95)\n",
        "    df = df[(df[column] >= lower_bound) & (df[column] <= upper_bound)]\n",
        "\n",
        "# Step 3: Normalize the data\n",
        "scaler = MinMaxScaler()\n",
        "df[non_categorical_columns] = scaler.fit_transform(df[non_categorical_columns])\n",
        "\n",
        "# Visualize the normalized data\n",
        "for column in non_categorical_columns:\n",
        "    sns.boxplot(x=df[column])\n",
        "    plt.title(f'Boxplot of {column} after normalization')\n",
        "    plt.show()\n",
        "\n"
      ],
      "metadata": {
        "colab": {
          "base_uri": "https://localhost:8080/",
          "height": 1000
        },
        "id": "R0lRLg3xxBfI",
        "outputId": "ae7b36e2-de74-4903-e6d2-ddefde622329"
      },
      "execution_count": 5,
      "outputs": [
        {
          "output_type": "display_data",
          "data": {
            "text/plain": [
              "<Figure size 640x480 with 1 Axes>"
            ],
            "image/png": "[encoded data removed]"
          },
          "metadata": {}
        },
        {
          "output_type": "display_data",
          "data": {
            "text/plain": [
              "<Figure size 640x480 with 1 Axes>"
            ],
            "image/png": "[encoded data removed]"
          },
          "metadata": {}
        },
        {
          "output_type": "display_data",
          "data": {
            "text/plain": [
              "<Figure size 640x480 with 1 Axes>"
            ],
            "image/png": "[encoded data removed]"
          },
          "metadata": {}
        },
        {
          "output_type": "display_data",
          "data": {
            "text/plain": [
              "<Figure size 640x480 with 1 Axes>"
            ],
            "image/png": "[encoded data removed]"
          },
          "metadata": {}
        },
        {
          "output_type": "display_data",
          "data": {
            "text/plain": [
              "<Figure size 640x480 with 1 Axes>"
            ],
            "image/png": "[encoded data removed]"
          },
          "metadata": {}
        },
        {
          "output_type": "display_data",
          "data": {
            "text/plain": [
              "<Figure size 640x480 with 1 Axes>"
            ],
            "image/png": "[encoded data removed]"
          },
          "metadata": {}
        },
        {
          "output_type": "display_data",
          "data": {
            "text/plain": [
              "<Figure size 640x480 with 1 Axes>"
            ],
            "image/png": "[encoded data removed]"
          },
          "metadata": {}
        },
        {
          "output_type": "display_data",
          "data": {
            "text/plain": [
              "<Figure size 640x480 with 1 Axes>"
            ],
            "image/png": "[encoded data removed]"
          },
          "metadata": {}
        },
        {
          "output_type": "display_data",
          "data": {
            "text/plain": [
              "<Figure size 640x480 with 1 Axes>"
            ],
            "image/png": "[encoded data removed]"
          },
          "metadata": {}
        },
        {
          "output_type": "display_data",
          "data": {
            "text/plain": [
              "<Figure size 640x480 with 1 Axes>"
            ],
            "image/png": "[encoded data removed]"
          },
          "metadata": {}
        }
      ]
    },
    {
      "cell_type": "code",
      "source": [
        "\n",
        "import pandas as pd\n",
        "from sklearn.model_selection import train_test_split\n",
        "\n",
        "# Load your dataset\n",
        "df = pd.read_excel('100000 Sales Records.xlsx')\n",
        "\n",
        "# Define the numerical encoded columns\n",
        "numerical_encoded_columns = ['Units Sold', 'Unit Price', 'Unit Cost',\n",
        "                             'Total Cost', 'Total Profit']\n",
        "\n",
        "# Extract the numerical encoded features\n",
        "X = df[numerical_encoded_columns]\n",
        "\n",
        "# Set Total Revenue as the target variable\n",
        "y = df['Total Revenue']\n",
        "\n",
        "# Split the data into training and testing sets\n",
        "X_train, X_test, y_train, y_test = train_test_split(X, y, test_size=0.2, random_state=42)\n",
        "\n",
        "# Print the shapes of the training and testing sets\n",
        "print(\"Training set shape:\", X_train.shape, y_train.shape)\n",
        "print(\"Testing set shape:\", X_test.shape, y_test.shape)\n",
        "\n"
      ],
      "metadata": {
        "colab": {
          "base_uri": "https://localhost:8080/"
        },
        "id": "4lKgeWFTxopy",
        "outputId": "c249a283-ac1a-4f26-c6ed-fe5da083b423"
      },
      "execution_count": 11,
      "outputs": [
        {
          "output_type": "stream",
          "name": "stdout",
          "text": [
            "Training set shape: (80000, 5) (80000,)\n",
            "Testing set shape: (20000, 5) (20000,)\n"
          ]
        }
      ]
    },
    {
      "cell_type": "code",
      "source": [
        "import pandas as pd\n",
        "import numpy as np\n",
        "from sklearn.feature_selection import chi2\n",
        "\n",
        "# Load the data from Excel file\n",
        "df = pd.read_excel('100000 Sales Records.xlsx')\n",
        "\n",
        "# Chi-square analysis\n",
        "# Perform chi-square test of independence between 'Item Type' and 'Sales Channel'\n",
        "cross_tab = pd.crosstab(df['Item Type'], df['Sales Channel'])\n",
        "chi2_stat, p_val = chi2(cross_tab.values, cross_tab.index)\n",
        "print(\"Chi-square statistic:\", chi2_stat)\n",
        "print(\"p-value:\", p_val)\n",
        "\n",
        "\n",
        "# Regression analysis\n",
        "# Perform linear regression between 'Total Profit' and 'Total Revenue'\n",
        "X = df[['Total Revenue']]\n",
        "y = df['Total Profit']\n",
        "reg_model = LinearRegression()\n",
        "reg_model.fit(X, y)\n",
        "reg_coef = reg_model.coef_\n",
        "reg_intercept = reg_model.intercept_\n",
        "y_pred = reg_model.predict(X)\n",
        "mse = mean_squared_error(y, y_pred)\n",
        "print(\"Coefficients:\", reg_coef)\n",
        "print(\"Intercept:\", reg_intercept)\n",
        "print(\"Mean Squared Error:\", mse)\n"
      ],
      "metadata": {
        "colab": {
          "base_uri": "https://localhost:8080/"
        },
        "id": "-aIvV65KSB2J",
        "outputId": "6c15b3fc-c6b0-4fed-804a-b0ccd12e8e9d"
      },
      "execution_count": null,
      "outputs": [
        {
          "output_type": "stream",
          "name": "stdout",
          "text": [
            "Chi-square statistic: [5.30004405 5.34806409]\n",
            "p-value: [0.91576939 0.91314586]\n",
            "Coefficients: [0.22701774]\n",
            "Intercept: 90780.3832229785\n",
            "Mean Squared Error: 32460366599.473347\n"
          ]
        }
      ]
    },
    {
      "cell_type": "code",
      "source": [
        "import pandas as pd\n",
        "from sklearn.feature_selection import f_classif\n",
        "from sklearn.preprocessing import LabelEncoder\n",
        "\n",
        "# Load the data from Excel file\n",
        "df = pd.read_excel('100000 Sales Records.xlsx')\n",
        "\n",
        "# Encode the categorical variable 'Region' into numerical values\n",
        "label_encoder = LabelEncoder()\n",
        "df['Region_encoded'] = label_encoder.fit_transform(df['Region'])\n",
        "\n",
        "# Perform ANOVA for 'Total Revenue' with 'Region' as the independent variable\n",
        "X = df[['Region_encoded']]\n",
        "y = df['Total Revenue']\n",
        "f_value, p_value = f_classif(X, y)\n",
        "print(\"F-value:\", f_value)\n",
        "print(\"p-value:\", p_value)\n",
        "\n"
      ],
      "metadata": {
        "colab": {
          "base_uri": "https://localhost:8080/"
        },
        "id": "UXGDwOMHTQx0",
        "outputId": "7fb7bcf2-0b0b-4c54-fec7-661327bc4dec"
      },
      "execution_count": 1,
      "outputs": [
        {
          "output_type": "stream",
          "name": "stdout",
          "text": [
            "F-value: [0.93329831]\n",
            "p-value: [1.]\n"
          ]
        }
      ]
    },
    {
      "cell_type": "code",
      "source": [
        "import pandas as pd\n",
        "from sklearn.feature_selection import f_classif\n",
        "from sklearn.preprocessing import LabelEncoder\n",
        "\n",
        "# Load the data from Excel file\n",
        "df = pd.read_excel('100000 Sales Records.xlsx')\n",
        "\n",
        "# Define categorical and non-categorical columns\n",
        "categorical_columns = ['Region', 'Country', 'Item Type', 'Sales Channel', 'Order Priority']\n",
        "non_categorical_columns = ['Units Sold', 'Unit Price', 'Unit Cost', 'Total Cost', 'Total Profit']  # Excluding 'Total Revenue'\n",
        "\n",
        "# Encode categorical columns\n",
        "label_encoder = LabelEncoder()\n",
        "for column in categorical_columns:\n",
        "    df[column] = label_encoder.fit_transform(df[column])\n",
        "\n",
        "# Perform ANOVA for categorical columns\n",
        "for column in categorical_columns:\n",
        "    X = df[[column]]\n",
        "    y = df['Total Revenue']  # Assuming 'Total Revenue' as the dependent variable\n",
        "    f_value, p_value = f_classif(X, y)\n",
        "    print(f\"\\nANOVA for {column}:\")\n",
        "    print(\"F-value:\", f_value)\n",
        "    print(\"p-value:\", '{:.20f}'.format(p_value[0]))  # Print p-value with full decimals\n",
        "\n",
        "# Perform ANOVA for non-categorical columns\n",
        "for column in non_categorical_columns:\n",
        "    X = df[[column]]\n",
        "    y = df['Region']  # Assuming 'Region' as the categorical variable\n",
        "    f_value, p_value = f_classif(X, y)\n",
        "    print(f\"\\nANOVA for {column}:\")\n",
        "    print(\"F-value:\", f_value)\n",
        "    print(\"p-value:\", '{:.20f}'.format(p_value[0]))  # Print p-value with full decimals\n"
      ],
      "metadata": {
        "colab": {
          "base_uri": "https://localhost:8080/"
        },
        "id": "m4I5gIuoT2fi",
        "outputId": "bc23a276-b8f9-4f3e-e02c-f48793853e15"
      },
      "execution_count": null,
      "outputs": [
        {
          "output_type": "stream",
          "name": "stdout",
          "text": [
            "\n",
            "ANOVA for Region:\n",
            "F-value: [0.93329831]\n",
            "p-value: 0.99999999999972533082\n",
            "\n",
            "ANOVA for Country:\n",
            "F-value: [1.00877429]\n",
            "p-value: 0.18215335433244639329\n",
            "\n",
            "ANOVA for Item Type:\n",
            "F-value: [3771.05308227]\n",
            "p-value: 0.00000000000000000000\n",
            "\n",
            "ANOVA for Sales Channel:\n",
            "F-value: [0.92722783]\n",
            "p-value: 0.99999999999999855671\n",
            "\n",
            "ANOVA for Order Priority:\n",
            "F-value: [0.92063104]\n",
            "p-value: 0.99999999999999988898\n",
            "\n",
            "ANOVA for Units Sold:\n",
            "F-value: [1.16552573]\n",
            "p-value: 0.32149043733369170317\n",
            "\n",
            "ANOVA for Unit Price:\n",
            "F-value: [0.78300673]\n",
            "p-value: 0.58308499542373048996\n",
            "\n",
            "ANOVA for Unit Cost:\n",
            "F-value: [0.69358144]\n",
            "p-value: 0.65483339506043902745\n",
            "\n",
            "ANOVA for Total Cost:\n",
            "F-value: [1.20668479]\n",
            "p-value: 0.29922216764440817682\n",
            "\n",
            "ANOVA for Total Profit:\n",
            "F-value: [1.819623]\n",
            "p-value: 0.09096433663211783704\n"
          ]
        }
      ]
    },
    {
      "cell_type": "code",
      "source": [
        "import pandas as pd\n",
        "from scipy.stats import chi2_contingency\n",
        "\n",
        "# Load your dataset\n",
        "df = pd.read_excel('100000 Sales Records.xlsx')\n",
        "\n",
        "# Select categorical variables\n",
        "categorical_columns = ['Region', 'Country', 'Item Type', 'Sales Channel', 'Order Priority']\n",
        "\n",
        "# Perform Chi-square test of independence for each pair of categorical variables\n",
        "for i in range(len(categorical_columns)):\n",
        "    for j in range(i+1, len(categorical_columns)):\n",
        "        contingency_table = pd.crosstab(df[categorical_columns[i]], df[categorical_columns[j]])\n",
        "        chi2_stat, p_val, _, _ = chi2_contingency(contingency_table)\n",
        "        print(f\"Chi-square test of independence between {categorical_columns[i]} and {categorical_columns[j]}:\")\n",
        "        print(\"Chi-square statistic:\", chi2_stat)\n",
        "        print(\"p-value:\", p_val)\n",
        "        print()\n"
      ],
      "metadata": {
        "colab": {
          "base_uri": "https://localhost:8080/"
        },
        "id": "zO2VOp_91Fki",
        "outputId": "2b96b5a4-3352-46d5-cfd4-b20f05ffee05"
      },
      "execution_count": 13,
      "outputs": [
        {
          "output_type": "stream",
          "name": "stdout",
          "text": [
            "Chi-square test of independence between Region and Country:\n",
            "Chi-square statistic: 600000.0\n",
            "p-value: 0.0\n",
            "\n",
            "Chi-square test of independence between Region and Item Type:\n",
            "Chi-square statistic: 49.04318525423779\n",
            "p-value: 0.9413305398579125\n",
            "\n",
            "Chi-square test of independence between Region and Sales Channel:\n",
            "Chi-square statistic: 8.381749413896099\n",
            "p-value: 0.2114477944756466\n",
            "\n",
            "Chi-square test of independence between Region and Order Priority:\n",
            "Chi-square statistic: 25.365843601992342\n",
            "p-value: 0.11516625846651728\n",
            "\n",
            "Chi-square test of independence between Country and Item Type:\n",
            "Chi-square statistic: 1884.214295510931\n",
            "p-value: 0.987429952645794\n",
            "\n",
            "Chi-square test of independence between Country and Sales Channel:\n",
            "Chi-square statistic: 193.58395181794134\n",
            "p-value: 0.2995165656443985\n",
            "\n",
            "Chi-square test of independence between Country and Order Priority:\n",
            "Chi-square statistic: 521.2647009464083\n",
            "p-value: 0.8218951778655562\n",
            "\n",
            "Chi-square test of independence between Item Type and Sales Channel:\n",
            "Chi-square statistic: 5.587523841288866\n",
            "p-value: 0.8994212111377047\n",
            "\n",
            "Chi-square test of independence between Item Type and Order Priority:\n",
            "Chi-square statistic: 13.39883464637041\n",
            "p-value: 0.9990244521712388\n",
            "\n",
            "Chi-square test of independence between Sales Channel and Order Priority:\n",
            "Chi-square statistic: 1.3167834070147308\n",
            "p-value: 0.7251516010529491\n",
            "\n"
          ]
        }
      ]
    }
  ]
}